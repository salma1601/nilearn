{
 "metadata": {
  "name": "",
  "signature": "sha256:600f09e2cc1b189378fdc433a580ea91fcddcbde2a6788534cc3be0aaa3e1b43"
 },
 "nbformat": 3,
 "nbformat_minor": 0,
 "worksheets": []
}